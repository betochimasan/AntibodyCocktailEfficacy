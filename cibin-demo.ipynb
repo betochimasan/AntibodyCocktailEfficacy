{
 "cells": [
  {
   "cell_type": "markdown",
   "metadata": {},
   "source": [
    "## Reproduces column “3” of table I in the Li and Ding paper."
   ]
  },
  {
   "cell_type": "code",
   "execution_count": 1,
   "metadata": {},
   "outputs": [],
   "source": [
    "from cibin import cibin as cb\n",
    "import numpy as np"
   ]
  },
  {
   "cell_type": "code",
   "execution_count": 2,
   "metadata": {},
   "outputs": [],
   "source": [
    "def test_tau_twoside_liding_1():\n",
    "    \"\"\"Test that tau_twoside gives the confidence intervals from Li & Ding paper.\"\"\"\n",
    "    N = 16\n",
    "    res1 = cb.tau_twoside(1, 1, 1, 13, 0.05, 103)\n",
    "    expected1 = [-1, 14]\n",
    "    print(\"------\")\n",
    "    print(\"n = 1, 1, 1, 13\")\n",
    "    print(\"number of randomization test = 103\")\n",
    "    print(\"95% confidence intervals from Li & Ding is \",expected1)\n",
    "    print(\"95% confidence intervals for tau is [\"+str(int(res1['tau_lower']*N))+\", \"+str(int(res1['tau_upper']*N)) + \"]\")\n",
    "    print(\"Output: \", res1)\n",
    "   \n",
    "    \n",
    "def test_tau_twoside_liding_2():\n",
    "    \"\"\"Test that tau_twoside gives the confidence intervals from Li & Ding paper.\"\"\"    \n",
    "    N = 16\n",
    "    res2 = cb.tau_twoside(2, 6, 8, 0, 0.05, 113)\n",
    "    expected2 = [-14, -5]\n",
    "    print(\"------\")\n",
    "    print(\"n = 2, 6, 8, 0\")\n",
    "    print(\"number of randomization test = 113\")\n",
    "    print(\"95% confidence intervals from Li & Ding is \",expected2)\n",
    "    print(\"95% confidence intervals for tau is [\"+str(int(res2['tau_lower']*N))+\", \"+str(int(res2['tau_upper']*N)) + \"]\")\n",
    "    print(\"Output: \", res2)\n",
    "\n",
    "    \n",
    "def test_tau_twoside_liding_3():\n",
    "    \"\"\"Test that tau_twoside gives the confidence intervals from Li & Ding paper.\"\"\"\n",
    "    N = 20\n",
    "    res3 = cb.tau_twoside(6, 0, 11, 3, 0.05, 283)\n",
    "    expected3 = [-4, 8]\n",
    "    print(\"------\")\n",
    "    print(\"n = 6, 0, 11, 3\")\n",
    "    print(\"number of randomization test = 283\")\n",
    "    print(\"95% confidence intervals from Li & Ding is \",expected3)\n",
    "    print(\"95% confidence intervals for tau is [\"+str(int(res3['tau_lower']*N))+\", \"+str(int(res3['tau_upper']*N)) + \"]\")\n",
    "    print(\"Output: \", res3)\n",
    "\n",
    "    \n",
    "def test_tau_twoside_liding_4():\n",
    "    \"\"\"Test that tau_twoside gives the confidence intervals from Li & Ding paper.\"\"\"\n",
    "    N = 20\n",
    "    res4 = cb.tau_twoside(6, 4, 4, 6, 0.05, 308)\n",
    "    expected4 = [-4, 10]\n",
    "    print(\"------\")\n",
    "    print(\"n = 6, 4, 4, 6\")\n",
    "    print(\"number of randomization test = 308\")\n",
    "    print(\"95% confidence intervals from Li & Ding is \",expected4)\n",
    "    print(\"95% confidence intervals for tau is [\"+str(int(res4['tau_lower']*N))+\", \"+str(int(res4['tau_upper']*N)) + \"]\")\n",
    "    print(\"Output: \", res4)\n",
    "\n",
    "    \n",
    "def test_tau_twoside_liding_5():\n",
    "    \"\"\"Test that tau_twoside gives the confidence intervals from Li & Ding paper.\"\"\"\n",
    "    N = 24\n",
    "    res5 = cb.tau_twoside(1, 1, 3, 19, 0.05, 251)\n",
    "    expected5 = [-3, 20]\n",
    "    print(\"------\")\n",
    "    print(\"n = 1, 1, 3, 19\")\n",
    "    print(\"number of randomization test = 251\")\n",
    "    print(\"95% confidence intervals from Li & Ding is \",expected5)\n",
    "    print(\"95% confidence intervals for tau is [\"+str(int(res5['tau_lower']*N))+\", \"+str(int(res5['tau_upper']*N)) + \"]\")\n",
    "    print(\"Output: \", res5)\n",
    "\n",
    "    \n",
    "def test_tau_twoside_liding_6():\n",
    "    \"\"\"Test that tau_twoside gives the confidence intervals from Li & Ding paper.\"\"\"\n",
    "    N = 24\n",
    "    res6 = cb.tau_twoside(8, 4, 5, 7, 0.05, 421)\n",
    "    expected6 = [-3, 13]\n",
    "    print(\"------\")\n",
    "    print(\"n = 8, 4, 5, 7\")\n",
    "    print(\"number of randomization test = 421\")\n",
    "    print(\"95% confidence intervals from Li & Ding is \",expected6)\n",
    "    print(\"95% confidence intervals for tau is [\"+str(int(res6['tau_lower']*N))+\", \"+str(int(res6['tau_upper']*N)) + \"]\")\n",
    "    print(\"Output: \", res6)\n"
   ]
  },
  {
   "cell_type": "code",
   "execution_count": 3,
   "metadata": {},
   "outputs": [
    {
     "name": "stdout",
     "output_type": "stream",
     "text": [
      "Reproduce Li and Ding results\n",
      "------\n",
      "n = 1, 1, 1, 13\n",
      "number of randomization test = 103\n",
      "95% confidence intervals from Li & Ding is  [-1, 14]\n",
      "95% confidence intervals for tau is [-1, 14]\n",
      "Output:  {'tau_lower': -0.0625, 'tau_upper': 0.875, 'N_accept_lower': [1.0, 0.0, 1.0, 14.0], 'N_accept_upper': [1.0, 14.0, 0.0, 1.0], 'rand_test_total': 88}\n",
      "------\n",
      "n = 2, 6, 8, 0\n",
      "number of randomization test = 113\n",
      "95% confidence intervals from Li & Ding is  [-14, -5]\n",
      "95% confidence intervals for tau is [-14, -4]\n",
      "Output:  {'tau_lower': -0.875, 'tau_upper': -0.25, 'N_accept_lower': [2.0, 0.0, 14.0, 0.0], 'N_accept_upper': [7.0, 0.0, 4.0, 5.0], 'rand_test_total': 101}\n",
      "------\n",
      "n = 6, 0, 11, 3\n",
      "number of randomization test = 283\n",
      "95% confidence intervals from Li & Ding is  [-4, 8]\n",
      "95% confidence intervals for tau is [-3, 8]\n",
      "Output:  {'tau_lower': -0.15, 'tau_upper': 0.4, 'N_accept_lower': [10.0, 2.0, 5.0, 3.0], 'N_accept_upper': [11.0, 8.0, 0.0, 1.0], 'rand_test_total': 266}\n",
      "------\n",
      "n = 6, 4, 4, 6\n",
      "number of randomization test = 308\n",
      "95% confidence intervals from Li & Ding is  [-4, 10]\n",
      "95% confidence intervals for tau is [-5, 10]\n",
      "Output:  {'tau_lower': -0.25, 'tau_upper': 0.5, 'N_accept_lower': [7.0, 0.0, 5.0, 8.0], 'N_accept_upper': [5.0, 11.0, 1.0, 3.0], 'rand_test_total': 290}\n",
      "------\n",
      "n = 1, 1, 3, 19\n",
      "number of randomization test = 251\n",
      "95% confidence intervals from Li & Ding is  [-3, 20]\n",
      "95% confidence intervals for tau is [-3, 20]\n",
      "Output:  {'tau_lower': -0.125, 'tau_upper': 0.8333333333333334, 'N_accept_lower': [1.0, 0.0, 3.0, 20.0], 'N_accept_upper': [3.0, 20.0, 0.0, 1.0], 'rand_test_total': 230}\n",
      "------\n",
      "n = 8, 4, 5, 7\n",
      "number of randomization test = 421\n",
      "95% confidence intervals from Li & Ding is  [-3, 13]\n",
      "95% confidence intervals for tau is [-3, 13]\n",
      "Output:  {'tau_lower': -0.125, 'tau_upper': 0.5416666666666666, 'N_accept_lower': [7.0, 3.0, 6.0, 8.0], 'N_accept_upper': [6.0, 14.0, 1.0, 3.0], 'rand_test_total': 401}\n"
     ]
    }
   ],
   "source": [
    "print(\"Reproduce Li and Ding results\")\n",
    "test_tau_twoside_liding_1()\n",
    "test_tau_twoside_liding_2()\n",
    "test_tau_twoside_liding_3()\n",
    "test_tau_twoside_liding_4()\n",
    "test_tau_twoside_liding_5()\n",
    "test_tau_twoside_liding_6()\n"
   ]
  },
  {
   "cell_type": "markdown",
   "metadata": {},
   "source": [
    "## Check `cabin.py` style"
   ]
  },
  {
   "cell_type": "code",
   "execution_count": 11,
   "metadata": {},
   "outputs": [],
   "source": [
    "!pycodestyle cibin/cibin.py"
   ]
  },
  {
   "cell_type": "code",
   "execution_count": 12,
   "metadata": {},
   "outputs": [],
   "source": [
    "!pep257 cibin/cibin.py"
   ]
  },
  {
   "cell_type": "markdown",
   "metadata": {},
   "source": [
    "## Check `test_cabin.py` style"
   ]
  },
  {
   "cell_type": "code",
   "execution_count": 13,
   "metadata": {},
   "outputs": [],
   "source": [
    "!pycodestyle cibin/tests/test_cibin.py"
   ]
  },
  {
   "cell_type": "code",
   "execution_count": 14,
   "metadata": {},
   "outputs": [],
   "source": [
    "!pep257 cibin/tests/test_cibin.py"
   ]
  },
  {
   "cell_type": "markdown",
   "metadata": {},
   "source": [
    "## Run unit test for `Cabin.py`"
   ]
  },
  {
   "cell_type": "code",
   "execution_count": 6,
   "metadata": {},
   "outputs": [
    {
     "name": "stdout",
     "output_type": "stream",
     "text": [
      "\u001b[1m============================= test session starts ==============================\u001b[0m\n",
      "platform darwin -- Python 3.8.3, pytest-6.2.2, py-1.9.0, pluggy-0.13.1\n",
      "rootdir: /Users/dylanalbertochima-sanchez/Desktop/Berkeley/Spring21/stat159/homework-8-group-0-1\n",
      "plugins: cov-2.11.1\n",
      "collected 9 items                                                              \u001b[0m\n",
      "\n",
      "cibin/tests/test_cibin.py \u001b[32m.\u001b[0m\u001b[32m.\u001b[0m\u001b[32m.\u001b[0m\u001b[32m.\u001b[0m\u001b[32m.\u001b[0m\u001b[32m.\u001b[0m\u001b[32m.\u001b[0m\u001b[32m.\u001b[0m\u001b[32m.\u001b[0m\u001b[32m                                      [100%]\u001b[0m\n",
      "\n",
      "\u001b[32m============================== \u001b[32m\u001b[1m9 passed\u001b[0m\u001b[32m in 1.45s\u001b[0m\u001b[32m ===============================\u001b[0m\n"
     ]
    }
   ],
   "source": [
    "!pytest cibin"
   ]
  }
 ],
 "metadata": {
  "kernelspec": {
   "display_name": "Python 3",
   "language": "python",
   "name": "python3"
  },
  "language_info": {
   "codemirror_mode": {
    "name": "ipython",
    "version": 3
   },
   "file_extension": ".py",
   "mimetype": "text/x-python",
   "name": "python",
   "nbconvert_exporter": "python",
   "pygments_lexer": "ipython3",
   "version": "3.8.3"
  }
 },
 "nbformat": 4,
 "nbformat_minor": 4
}
