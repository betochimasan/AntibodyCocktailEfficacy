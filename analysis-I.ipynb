{
 "cells": [
  {
   "cell_type": "markdown",
   "metadata": {},
   "source": [
    "# Analysis Part I"
   ]
  },
  {
   "cell_type": "markdown",
   "metadata": {},
   "source": [
    "Find 95% lower (one-sided) and two-sided confidence intervals for the reduction in risk corresponding to the primary endpoint (data “Through day 29”), using method 3 and also using the cruder conservative approach via simultaneous Bonferroni confidence bounds for N⋅1 and N1⋅ described in the notes on causal inference. (For the Bonferroni approach to two-sided intervals, use Sterne’s method for the underlying hypergeometric confidence intervals. Feel free to re-use your own code from the previous problem set.)\n"
   ]
  },
  {
   "cell_type": "code",
   "execution_count": 1,
   "metadata": {},
   "outputs": [],
   "source": [
    "from utils import hypergeom_conf_interval\n",
    "from math import comb\n",
    "from scipy.stats import binom, hypergeom\n",
    "from cabin.cabin import *"
   ]
  },
  {
   "cell_type": "code",
   "execution_count": 2,
   "metadata": {},
   "outputs": [
    {
     "data": {
      "text/plain": [
       "(11, 742, 59, 693)"
      ]
     },
     "execution_count": 2,
     "metadata": {},
     "output_type": "execute_result"
    }
   ],
   "source": [
    "n, m = 753, 752\n",
    "N = n+m\n",
    "\n",
    "n01 = 59\n",
    "n11 = 11\n",
    "n00 = m - n01\n",
    "n10 = n - n11\n",
    "\n",
    "alpha = 0.05\n",
    "print(n11, n10, n01, n00)"
   ]
  },
  {
   "cell_type": "markdown",
   "metadata": {},
   "source": [
    "## Method 3"
   ]
  },
  {
   "cell_type": "code",
   "execution_count": null,
   "metadata": {},
   "outputs": [],
   "source": [
    "result = tau_twoside(11, 742, 59, 684, 0.05, 100)\n",
    "tau_lower = result['tau_lower']\n",
    "tau_upper = result['tau_lower']"
   ]
  },
  {
   "cell_type": "markdown",
   "metadata": {},
   "source": [
    "It takes long time to run, here we only shown the results:\n",
    "\n",
    "tau_upper = -0.0314\n",
    "\n",
    "tau_lower = -0.0975"
   ]
  },
  {
   "cell_type": "markdown",
   "metadata": {},
   "source": [
    "## Bonferroni approach"
   ]
  },
  {
   "cell_type": "markdown",
   "metadata": {},
   "source": [
    "#### Two-sided:"
   ]
  },
  {
   "cell_type": "code",
   "execution_count": 7,
   "metadata": {},
   "outputs": [
    {
     "name": "stdout",
     "output_type": "stream",
     "text": [
      "tau_upper -0.0399\n",
      "tau_lower -0.0877\n"
     ]
    }
   ],
   "source": [
    "# two sided\n",
    "N_1 = hypergeom_conf_interval(n, n11, N, 1-alpha/2, alternative='two-sided', method= \"sterne\")\n",
    "N1_ = hypergeom_conf_interval(m, n01, N, 1-alpha/2, alternative='two-sided', method= \"sterne\")\n",
    "\n",
    "tao_lower = (N_1[0] - N1_[1])/N\n",
    "tao_upper = (N_1[1] - N1_[0])/N\n",
    "print(\"tau_upper\", round(tao_upper,4))\n",
    "print(\"tau_lower\", round(tao_lower,4))"
   ]
  },
  {
   "cell_type": "markdown",
   "metadata": {},
   "source": [
    "#### Lower one-side"
   ]
  },
  {
   "cell_type": "code",
   "execution_count": 8,
   "metadata": {},
   "outputs": [
    {
     "name": "stdout",
     "output_type": "stream",
     "text": [
      "tau_upper 1.0\n",
      "tau_lower -0.1561\n"
     ]
    }
   ],
   "source": [
    "# lower one sided\n",
    "N_1 = hypergeom_conf_interval(n, n11*N/n, N, 1-alpha/2, alternative='lower')\n",
    "N1_ = hypergeom_conf_interval(m, n01*N/m, N, 1-alpha/2, alternative='upper')\n",
    "\n",
    "tao_lower = (N_1[0] - N1_[1])/N\n",
    "tao_upper = (N_1[1] - N1_[0])/N\n",
    "print(\"tau_upper\", round(tao_upper,4))\n",
    "print(\"tau_lower\", round(tao_lower,4))"
   ]
  },
  {
   "cell_type": "markdown",
   "metadata": {},
   "source": [
    "#### Upper one-side"
   ]
  },
  {
   "cell_type": "code",
   "execution_count": 9,
   "metadata": {},
   "outputs": [
    {
     "name": "stdout",
     "output_type": "stream",
     "text": [
      "tau_upper -0.101\n",
      "tau_lower -1.0\n"
     ]
    }
   ],
   "source": [
    "# lower one sided\n",
    "N_1 = hypergeom_conf_interval(n, n11*N/n, N, 1-alpha/2, alternative='upper')\n",
    "N1_ = hypergeom_conf_interval(m, n01*N/m, N, 1-alpha/2, alternative='lower')\n",
    "\n",
    "tao_lower = (N_1[0] - N1_[1])/N\n",
    "tao_upper = (N_1[1] - N1_[0])/N\n",
    "print(\"tau_upper\", round(tao_upper,4))\n",
    "print(\"tau_lower\", round(tao_lower,4))"
   ]
  },
  {
   "cell_type": "markdown",
   "metadata": {},
   "source": [
    "## Discuss the differences between the two sets of confidence intervals."
   ]
  },
  {
   "cell_type": "markdown",
   "metadata": {},
   "source": [
    "Confidence interval for reduction in risk by using Method 3 is $\\tau_{method3} = [ -0.0975, -0.0314]$. And the confidence interval for reduction by using sterne method is $\\tau_{sterne} = [-0.0877, -0.0399]$. The sterne's confidence is narrow than the method3 confidence interval. In Sterne's tails, they may be of different sizes, and create a potentially tighter confidence interval than method 3."
   ]
  },
  {
   "cell_type": "markdown",
   "metadata": {},
   "source": [
    "## Is it statistically legitimate to use one-sided confidence intervals? Why or why not?"
   ]
  },
  {
   "cell_type": "markdown",
   "metadata": {},
   "source": [
    "Yes, for this case, if the vaccine is effective, there should be fewer infected cases in the treatment group compared to the placebo group. We only need to check whether $\\tau$ is smaller than 0 to find the upper one-sided confidence interval."
   ]
  },
  {
   "cell_type": "markdown",
   "metadata": {},
   "source": [
    "## Are the 2-sided confidence intervals preferable to the one-sided intervals? Why or why not?"
   ]
  },
  {
   "cell_type": "markdown",
   "metadata": {},
   "source": [
    "Yes, the 2-sided confidence interval is preferable to the one-sided interval. Because we can check how far away the lower bound to the -1 to determine the effectiveness of the vaccine. If close to -1, it means that the vaccine is effective and merely any cases after taking the vaccine treatment.\n"
   ]
  }
 ],
 "metadata": {
  "kernelspec": {
   "display_name": "Python 3",
   "language": "python",
   "name": "python3"
  },
  "language_info": {
   "codemirror_mode": {
    "name": "ipython",
    "version": 3
   },
   "file_extension": ".py",
   "mimetype": "text/x-python",
   "name": "python",
   "nbconvert_exporter": "python",
   "pygments_lexer": "ipython3",
   "version": "3.8.8"
  }
 },
 "nbformat": 4,
 "nbformat_minor": 4
}
