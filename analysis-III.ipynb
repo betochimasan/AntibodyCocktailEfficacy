{
 "cells": [
  {
   "cell_type": "markdown",
   "metadata": {},
   "source": [
    "# Analysis Part III"
   ]
  },
  {
   "cell_type": "markdown",
   "metadata": {},
   "source": [
    "Imagine enumerating all the subject-weeks (4 weeks per subject), and labeling each as either “has symptoms” or “does not have symptoms,” so that each week is labeled with a binary outcome."
   ]
  },
  {
   "cell_type": "markdown",
   "metadata": {},
   "source": [
    "## Can either of the methods you implemented be used to find confidence bounds for the average treatment effect, measured as the reduction in the average number of symptomatic weeks per subject? If so, explain how; if not, explain why."
   ]
  },
  {
   "cell_type": "markdown",
   "metadata": {},
   "source": [
    "No, neither of the methods can be used to find the confidence bounds for the average treatment effect for reduction in number of symptomatic weeks per subject.\n",
    "\n",
    "Both methods of establishing binary confidence intervals are based on the Neyman “potential outcomes” model for causal inference, and one of the foundational assumptions of Neyman’s model non-interference, which means that outcomes of each event do not influence the other outcomes in the sample.\n",
    "Including the same subjects over a course of four weeks as different subjects for each week of treatment would inherently create four dependent data points per subject. This defeats the purpose of Neyman’s model, as the resulting outcomes matrix would no longer have an independent set of N subjects to evaluate against the treatment and control.\n",
    "\n",
    "If the inverse approach is taken, where the different weeks of treatment are seen as different treatments to measure against the control, this also has the same problem of interference, as the results of the same subjects to different dependent “treatments” will also be dependent, causing the underlying mathematical premise to fall apart."
   ]
  },
  {
   "cell_type": "code",
   "execution_count": null,
   "metadata": {},
   "outputs": [],
   "source": []
  }
 ],
 "metadata": {
  "kernelspec": {
   "display_name": "Python 3",
   "language": "python",
   "name": "python3"
  },
  "language_info": {
   "codemirror_mode": {
    "name": "ipython",
    "version": 3
   },
   "file_extension": ".py",
   "mimetype": "text/x-python",
   "name": "python",
   "nbconvert_exporter": "python",
   "pygments_lexer": "ipython3",
   "version": "3.8.8"
  }
 },
 "nbformat": 4,
 "nbformat_minor": 4
}
