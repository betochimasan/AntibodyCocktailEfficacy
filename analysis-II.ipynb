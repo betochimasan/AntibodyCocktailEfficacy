{
 "cells": [
  {
   "cell_type": "markdown",
   "metadata": {},
   "source": [
    "# Analysis Part II"
   ]
  },
  {
   "cell_type": "markdown",
   "metadata": {},
   "source": [
    "Is the same method applicable to the two intermediate endpoints, symptoms within 1 week and symptoms after 1 week? If so, how? Identify any additional assumptions or adjustments that would be required to use the method on the intermediate endpoints. If the method is not applicable to the intermediate endpoints, explain why.\n"
   ]
  },
  {
   "cell_type": "markdown",
   "metadata": {},
   "source": [
    "Answer: Yes, it can be used for intermediate endpoints. \n",
    "\n",
    "For symptoms within 1 week, we can assume that most of the infected cases in the treatment group happened within 1 week after treatment. When we are applying data to the method, we use the same numbers for total individuals in treatment and the placebo group along with the number of cases within 1 week.\n",
    "\n",
    "For symptoms after 1 week, we can assume that the vaccine will only be effective after 1 week, then we look at the effectiveness of the vacinne after one week. When applying the same method, we need to use the number of total individuals in each group minus the number of cases that happened within 1 week respectively, along with the cases that happened after 1 week. For example, for treated group the total numeber of people shoud be 753 - 9 = 744, for placebo group the total number should be 752 - 32 = 721.\n"
   ]
  },
  {
   "cell_type": "code",
   "execution_count": null,
   "metadata": {},
   "outputs": [],
   "source": []
  }
 ],
 "metadata": {
  "kernelspec": {
   "display_name": "Python 3",
   "language": "python",
   "name": "python3"
  },
  "language_info": {
   "codemirror_mode": {
    "name": "ipython",
    "version": 3
   },
   "file_extension": ".py",
   "mimetype": "text/x-python",
   "name": "python",
   "nbconvert_exporter": "python",
   "pygments_lexer": "ipython3",
   "version": "3.8.8"
  }
 },
 "nbformat": 4,
 "nbformat_minor": 4
}
